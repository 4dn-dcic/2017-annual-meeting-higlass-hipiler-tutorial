{
 "cells": [
  {
   "cell_type": "markdown",
   "metadata": {},
   "source": [
    "# Mapping Hi-C data with `bwa` and `pairsamtools`"
   ]
  },
  {
   "cell_type": "code",
   "execution_count": null,
   "metadata": {
    "ExecuteTime": {
     "end_time": "2017-07-19T18:39:12.865727Z",
     "start_time": "2017-07-19T18:39:12.730594Z"
    },
    "collapsed": true
   },
   "outputs": [],
   "source": [
    "import os\n",
    "\n",
    "if os.path.exists('mapping'):\n",
    "    !rm -rf mapping"
   ]
  },
  {
   "cell_type": "code",
   "execution_count": null,
   "metadata": {
    "ExecuteTime": {
     "end_time": "2017-07-19T18:39:12.992251Z",
     "start_time": "2017-07-19T18:39:12.869280Z"
    },
    "collapsed": true
   },
   "outputs": [],
   "source": [
    "!mkdir -p mapping"
   ]
  },
  {
   "cell_type": "code",
   "execution_count": null,
   "metadata": {
    "ExecuteTime": {
     "end_time": "2017-07-19T18:39:13.003265Z",
     "start_time": "2017-07-19T18:39:12.995841Z"
    }
   },
   "outputs": [],
   "source": [
    "cd mapping"
   ]
  },
  {
   "cell_type": "markdown",
   "metadata": {},
   "source": [
    "### Download sample yeast reads"
   ]
  },
  {
   "cell_type": "code",
   "execution_count": null,
   "metadata": {
    "ExecuteTime": {
     "end_time": "2017-07-19T18:39:13.755289Z",
     "start_time": "2017-07-19T18:39:13.006216Z"
    },
    "collapsed": true
   },
   "outputs": [],
   "source": [
    "%%bash\n",
    "\n",
    "curl -LkSs https://api.github.com/repos/mirnylab/distiller-test-data/tarball | tar -zxf - \n",
    "mv $(ls -d mirnylab-distiller-test-data-* | head -n 1)/genome .\n",
    "mv $(ls -d mirnylab-distiller-test-data-* | head -n 1)/fastq ."
   ]
  },
  {
   "cell_type": "code",
   "execution_count": null,
   "metadata": {
    "ExecuteTime": {
     "end_time": "2017-07-19T18:39:13.871969Z",
     "start_time": "2017-07-19T18:39:13.757125Z"
    }
   },
   "outputs": [],
   "source": [
    "ll genome/"
   ]
  },
  {
   "cell_type": "code",
   "execution_count": null,
   "metadata": {
    "ExecuteTime": {
     "end_time": "2017-07-19T18:39:13.996785Z",
     "start_time": "2017-07-19T18:39:13.875149Z"
    }
   },
   "outputs": [],
   "source": [
    "ll fastq/*/*"
   ]
  },
  {
   "cell_type": "markdown",
   "metadata": {},
   "source": [
    "### Simple pipeline for a single run or part of a run"
   ]
  },
  {
   "cell_type": "code",
   "execution_count": null,
   "metadata": {
    "ExecuteTime": {
     "end_time": "2017-07-19T18:39:15.686640Z",
     "start_time": "2017-07-19T18:39:14.000066Z"
    },
    "scrolled": false
   },
   "outputs": [],
   "source": [
    "%%bash\n",
    "\n",
    "set -o errexit\n",
    "set -o nounset\n",
    "set -o pipefail\n",
    "\n",
    "INDEX='./genome/sacCer3.fa.gz'\n",
    "CHROMSIZES='./genome/sacCer3.chrom.sizes'\n",
    "FASTQ1='./fastq/MATalpha_R1/lane1/SRR2601842_1.fastq.gz'\n",
    "FASTQ2='./fastq/MATalpha_R1/lane1/SRR2601842_1.fastq.gz'\n",
    "OUTPREFIX='MATalpha_R1'\n",
    "\n",
    "N_THREADS=8\n",
    "\n",
    "UNMAPPED_SAM_PATH=${OUTPREFIX}.unmapped.bam\n",
    "UNMAPPED_PAIRS_PATH=${OUTPREFIX}.unmapped.pairs.gz\n",
    "NODUPS_SAM_PATH=${OUTPREFIX}.nodups.bam\n",
    "NODUPS_PAIRS_PATH=${OUTPREFIX}.nodups.pairs.gz\n",
    "DUPS_SAM_PATH=${OUTPREFIX}.dups.bam\n",
    "DUPS_PAIRS_PATH=${OUTPREFIX}.dups.pairs.gz\n",
    "\n",
    "bwa mem -SPM -t \"${N_THREADS}\" \"${INDEX}\" \"${FASTQ1}\" \"${FASTQ2}\" | {\n",
    "    # Classify Hi-C molecules as unmapped/single-sided/multimapped/chimeric/etc\n",
    "    # and output one line per read, containing the following, separated by \\\\v:\n",
    "    #  * triu-flipped pairs\n",
    "    #  * read id\n",
    "    #  * type of a Hi-C molecule\n",
    "    #  * corresponding sam entries\n",
    "    pairsamtools parse -c ${CHROMSIZES}\n",
    "} | {\n",
    "    # Block-sort pairs together with SAM entries\n",
    "    pairsamtools sort\n",
    "} | {\n",
    "    # Set unmapped and ambiguous reads aside\n",
    "    pairsamtools select '(pair_type == \"CX\") or (pair_type == \"LL\")' \\\n",
    "        --output-rest >( pairsamtools split \\\n",
    "            --output-pairs ${UNMAPPED_PAIRS_PATH} \\\n",
    "            --output-sam ${UNMAPPED_SAM_PATH} ) \n",
    "} | {\n",
    "    # Remove duplicates\n",
    "    pairsamtools dedup \\\n",
    "        --output \\\n",
    "            >( pairsamtools split \\\n",
    "                --output-pairs ${NODUPS_PAIRS_PATH} \\\n",
    "                --output-sam ${NODUPS_SAM_PATH} ) \\\n",
    "        --output-dups \\\n",
    "            >( pairsamtools markasdup \\\n",
    "                | pairsamtools split \\\n",
    "                    --output-pairs ${DUPS_PAIRS_PATH} \\\n",
    "                    --output-sam ${DUPS_SAM_PATH} )\n",
    "}"
   ]
  },
  {
   "cell_type": "code",
   "execution_count": null,
   "metadata": {
    "ExecuteTime": {
     "end_time": "2017-07-19T18:39:15.809140Z",
     "start_time": "2017-07-19T18:39:15.690418Z"
    }
   },
   "outputs": [],
   "source": [
    "ll"
   ]
  },
  {
   "cell_type": "code",
   "execution_count": null,
   "metadata": {
    "ExecuteTime": {
     "end_time": "2017-07-19T18:39:15.930108Z",
     "start_time": "2017-07-19T18:39:15.812562Z"
    }
   },
   "outputs": [],
   "source": [
    "!samtools view MATalpha_R1.nodups.bam | head"
   ]
  },
  {
   "cell_type": "code",
   "execution_count": null,
   "metadata": {
    "ExecuteTime": {
     "end_time": "2017-07-19T18:39:16.054365Z",
     "start_time": "2017-07-19T18:39:15.933886Z"
    }
   },
   "outputs": [],
   "source": [
    "!samtools view MATalpha_R1.dups.bam | head"
   ]
  },
  {
   "cell_type": "code",
   "execution_count": null,
   "metadata": {
    "ExecuteTime": {
     "end_time": "2017-07-19T18:39:16.172893Z",
     "start_time": "2017-07-19T18:39:16.057057Z"
    }
   },
   "outputs": [],
   "source": [
    "!zcat MATalpha_R1.nodups.pairs.gz | head -n 50"
   ]
  },
  {
   "cell_type": "markdown",
   "metadata": {},
   "source": [
    "### Index the deduped pairs file"
   ]
  },
  {
   "cell_type": "code",
   "execution_count": null,
   "metadata": {
    "ExecuteTime": {
     "end_time": "2017-07-19T18:39:16.294926Z",
     "start_time": "2017-07-19T18:39:16.175367Z"
    },
    "collapsed": true
   },
   "outputs": [],
   "source": [
    "!pairix MATalpha_R1.nodups.pairs.gz"
   ]
  },
  {
   "cell_type": "code",
   "execution_count": null,
   "metadata": {
    "ExecuteTime": {
     "end_time": "2017-07-19T18:39:16.412659Z",
     "start_time": "2017-07-19T18:39:16.298096Z"
    }
   },
   "outputs": [],
   "source": [
    "ll"
   ]
  },
  {
   "cell_type": "code",
   "execution_count": null,
   "metadata": {
    "ExecuteTime": {
     "end_time": "2017-07-19T18:39:16.536799Z",
     "start_time": "2017-07-19T18:39:16.415812Z"
    }
   },
   "outputs": [],
   "source": [
    "!pairix MATalpha_R1.nodups.pairs.gz 'chrI|chrI'"
   ]
  },
  {
   "cell_type": "code",
   "execution_count": null,
   "metadata": {
    "collapsed": true
   },
   "outputs": [],
   "source": []
  }
 ],
 "metadata": {
  "_draft": {
   "nbviewer_url": "https://gist.github.com/a271c3c17cd4190164f10c16f9d8249e"
  },
  "gist": {
   "data": {
    "description": "projects/ismb-tutorial/HiC-mapping.ipynb",
    "public": false
   },
   "id": "a271c3c17cd4190164f10c16f9d8249e"
  },
  "kernelspec": {
   "display_name": "Python 3",
   "language": "python",
   "name": "python3"
  },
  "language_info": {
   "codemirror_mode": {
    "name": "ipython",
    "version": 3
   },
   "file_extension": ".py",
   "mimetype": "text/x-python",
   "name": "python",
   "nbconvert_exporter": "python",
   "pygments_lexer": "ipython3",
   "version": "3.6.1"
  },
  "toc": {
   "toc_cell": false,
   "toc_number_sections": true,
   "toc_threshold": 6,
   "toc_window_display": false
  }
 },
 "nbformat": 4,
 "nbformat_minor": 2
}
